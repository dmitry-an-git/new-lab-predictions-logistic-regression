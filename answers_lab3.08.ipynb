{
 "cells": [
  {
   "cell_type": "markdown",
   "id": "cea15998",
   "metadata": {},
   "source": [
    "### Lab | Making predictions with logistic regression"
   ]
  },
  {
   "cell_type": "code",
   "execution_count": null,
   "id": "f90069a9",
   "metadata": {},
   "outputs": [],
   "source": [
    "import numpy as np\n",
    "import pandas as pd\n",
    "from sqlalchemy import create_engine\n",
    "import getpass \n",
    "import seaborn as sns\n",
    "import matplotlib.pyplot as plt\n",
    "from sklearn.model_selection import train_test_split\n",
    "from sklearn.metrics import confusion_matrix, accuracy_score, precision_score, recall_score, ConfusionMatrixDisplay\n",
    "from sklearn.metrics import classification_report, f1_score, cohen_kappa_score\n",
    "\n"
   ]
  },
  {
   "cell_type": "code",
   "execution_count": 2,
   "id": "4df36524",
   "metadata": {},
   "outputs": [
    {
     "name": "stdout",
     "output_type": "stream",
     "text": [
      "········\n"
     ]
    }
   ],
   "source": [
    "password = getpass.getpass()"
   ]
  },
  {
   "cell_type": "code",
   "execution_count": 3,
   "id": "a22589fa",
   "metadata": {},
   "outputs": [
    {
     "name": "stderr",
     "output_type": "stream",
     "text": [
      "/Users/ttrofff/opt/anaconda3/lib/python3.9/site-packages/pandas/io/sql.py:618: SAWarning: Did not recognize type 'geometry' of column 'location'\n",
      "  pandas_sql.meta.reflect(only=[sql])\n",
      "/Users/ttrofff/opt/anaconda3/lib/python3.9/site-packages/pandas/io/sql.py:618: SAWarning: Did not recognize type 'geometry' of column 'location'\n",
      "  pandas_sql.meta.reflect(only=[sql])\n"
     ]
    }
   ],
   "source": [
    "# get the data\n",
    "connection_string = 'mysql+pymysql://root:' + password + '@localhost/sakila'\n",
    "engine = create_engine(connection_string)\n",
    "\n",
    "query_film = '''select film_id, title, rental_duration, rental_rate, length, rating, special_features from film;'''\n",
    "query_may = '''select f.film_id, count(r.rental_id) as rent_may from rental as r\n",
    "left join inventory as i\n",
    "using (inventory_id)\n",
    "left join film as f\n",
    "using (film_id)\n",
    "where left(r.rental_date,7) = '2005-05'\n",
    "group by f.film_id;'''\n",
    "query_jun = '''select f.film_id, count(r.rental_id) as rent_jun from rental as r\n",
    "left join inventory as i\n",
    "using (inventory_id)\n",
    "left join film as f\n",
    "using (film_id)\n",
    "where left(r.rental_date,7) = '2005-06'\n",
    "group by f.film_id;'''\n",
    "query_jul = '''select f.film_id, count(r.rental_id) as rent_jul from rental as r\n",
    "left join inventory as i\n",
    "using (inventory_id)\n",
    "left join film as f\n",
    "using (film_id)\n",
    "where left(r.rental_date,7) = '2005-07'\n",
    "group by f.film_id;'''\n",
    "data_rental = pd.read_sql('rental', engine)\n",
    "data_inventory = pd.read_sql('inventory', engine)\n",
    "data_film = pd.read_sql_query(query_film, engine)\n",
    "data_film_cat = pd.read_sql('film_category', engine)\n",
    "data_may = pd.read_sql_query(query_may, engine)\n",
    "data_jun = pd.read_sql_query(query_jun, engine)\n",
    "data_jul = pd.read_sql_query(query_jul, engine)\n"
   ]
  },
  {
   "cell_type": "code",
   "execution_count": 4,
   "id": "bef1b09f",
   "metadata": {},
   "outputs": [
    {
     "data": {
      "text/html": [
       "<div>\n",
       "<style scoped>\n",
       "    .dataframe tbody tr th:only-of-type {\n",
       "        vertical-align: middle;\n",
       "    }\n",
       "\n",
       "    .dataframe tbody tr th {\n",
       "        vertical-align: top;\n",
       "    }\n",
       "\n",
       "    .dataframe thead th {\n",
       "        text-align: right;\n",
       "    }\n",
       "</style>\n",
       "<table border=\"1\" class=\"dataframe\">\n",
       "  <thead>\n",
       "    <tr style=\"text-align: right;\">\n",
       "      <th></th>\n",
       "      <th>film_id</th>\n",
       "      <th>title</th>\n",
       "      <th>rental_duration</th>\n",
       "      <th>rental_rate</th>\n",
       "      <th>length</th>\n",
       "      <th>rating</th>\n",
       "      <th>special_features</th>\n",
       "      <th>rent_may</th>\n",
       "      <th>rent_jun</th>\n",
       "      <th>rent_jul</th>\n",
       "    </tr>\n",
       "  </thead>\n",
       "  <tbody>\n",
       "    <tr>\n",
       "      <th>0</th>\n",
       "      <td>1</td>\n",
       "      <td>ACADEMY DINOSAUR</td>\n",
       "      <td>6</td>\n",
       "      <td>0.99</td>\n",
       "      <td>86</td>\n",
       "      <td>PG</td>\n",
       "      <td>Deleted Scenes,Behind the Scenes</td>\n",
       "      <td>2.0</td>\n",
       "      <td>3.0</td>\n",
       "      <td>9.0</td>\n",
       "    </tr>\n",
       "    <tr>\n",
       "      <th>1</th>\n",
       "      <td>2</td>\n",
       "      <td>ACE GOLDFINGER</td>\n",
       "      <td>3</td>\n",
       "      <td>4.99</td>\n",
       "      <td>48</td>\n",
       "      <td>G</td>\n",
       "      <td>Trailers,Deleted Scenes</td>\n",
       "      <td>NaN</td>\n",
       "      <td>NaN</td>\n",
       "      <td>2.0</td>\n",
       "    </tr>\n",
       "    <tr>\n",
       "      <th>2</th>\n",
       "      <td>3</td>\n",
       "      <td>ADAPTATION HOLES</td>\n",
       "      <td>7</td>\n",
       "      <td>2.99</td>\n",
       "      <td>50</td>\n",
       "      <td>NC-17</td>\n",
       "      <td>Trailers,Deleted Scenes</td>\n",
       "      <td>1.0</td>\n",
       "      <td>1.0</td>\n",
       "      <td>4.0</td>\n",
       "    </tr>\n",
       "    <tr>\n",
       "      <th>3</th>\n",
       "      <td>4</td>\n",
       "      <td>AFFAIR PREJUDICE</td>\n",
       "      <td>5</td>\n",
       "      <td>2.99</td>\n",
       "      <td>117</td>\n",
       "      <td>G</td>\n",
       "      <td>Commentaries,Behind the Scenes</td>\n",
       "      <td>2.0</td>\n",
       "      <td>2.0</td>\n",
       "      <td>12.0</td>\n",
       "    </tr>\n",
       "    <tr>\n",
       "      <th>4</th>\n",
       "      <td>5</td>\n",
       "      <td>AFRICAN EGG</td>\n",
       "      <td>6</td>\n",
       "      <td>2.99</td>\n",
       "      <td>130</td>\n",
       "      <td>G</td>\n",
       "      <td>Deleted Scenes</td>\n",
       "      <td>1.0</td>\n",
       "      <td>2.0</td>\n",
       "      <td>5.0</td>\n",
       "    </tr>\n",
       "  </tbody>\n",
       "</table>\n",
       "</div>"
      ],
      "text/plain": [
       "   film_id             title  rental_duration  rental_rate  length rating  \\\n",
       "0        1  ACADEMY DINOSAUR                6         0.99      86     PG   \n",
       "1        2    ACE GOLDFINGER                3         4.99      48      G   \n",
       "2        3  ADAPTATION HOLES                7         2.99      50  NC-17   \n",
       "3        4  AFFAIR PREJUDICE                5         2.99     117      G   \n",
       "4        5       AFRICAN EGG                6         2.99     130      G   \n",
       "\n",
       "                   special_features  rent_may  rent_jun  rent_jul  \n",
       "0  Deleted Scenes,Behind the Scenes       2.0       3.0       9.0  \n",
       "1           Trailers,Deleted Scenes       NaN       NaN       2.0  \n",
       "2           Trailers,Deleted Scenes       1.0       1.0       4.0  \n",
       "3    Commentaries,Behind the Scenes       2.0       2.0      12.0  \n",
       "4                    Deleted Scenes       1.0       2.0       5.0  "
      ]
     },
     "execution_count": 4,
     "metadata": {},
     "output_type": "execute_result"
    }
   ],
   "source": [
    "# film_id(all) rentals_may rentals_june rentals_june\n",
    "\n",
    "step1 = pd.merge(left = data_film,\n",
    "                                  right = data_may,\n",
    "                                  how = 'left', \n",
    "                                  left_on = \"film_id\", \n",
    "                                  right_on = \"film_id\")\n",
    "step2 = pd.merge(left = step1,\n",
    "                                  right = data_jun,\n",
    "                                  how = 'left', \n",
    "                                  left_on = \"film_id\", \n",
    "                                  right_on = \"film_id\")\n",
    "\n",
    "step3 = pd.merge(left = step2,\n",
    "                                  right = data_jul,\n",
    "                                  how = 'left', \n",
    "                                  left_on = \"film_id\", \n",
    "                                  right_on = \"film_id\")\n",
    "\n",
    "\n",
    "data = step3.copy()\n",
    "data.head()"
   ]
  },
  {
   "cell_type": "code",
   "execution_count": 5,
   "id": "0a34c5ab",
   "metadata": {},
   "outputs": [
    {
     "data": {
      "text/html": [
       "<div>\n",
       "<style scoped>\n",
       "    .dataframe tbody tr th:only-of-type {\n",
       "        vertical-align: middle;\n",
       "    }\n",
       "\n",
       "    .dataframe tbody tr th {\n",
       "        vertical-align: top;\n",
       "    }\n",
       "\n",
       "    .dataframe thead th {\n",
       "        text-align: right;\n",
       "    }\n",
       "</style>\n",
       "<table border=\"1\" class=\"dataframe\">\n",
       "  <thead>\n",
       "    <tr style=\"text-align: right;\">\n",
       "      <th></th>\n",
       "      <th>rental_duration</th>\n",
       "      <th>rental_rate</th>\n",
       "      <th>length</th>\n",
       "      <th>rent_may</th>\n",
       "      <th>rent_jun</th>\n",
       "      <th>rent_jul</th>\n",
       "    </tr>\n",
       "  </thead>\n",
       "  <tbody>\n",
       "    <tr>\n",
       "      <th>count</th>\n",
       "      <td>1000.000000</td>\n",
       "      <td>1000.000000</td>\n",
       "      <td>1000.000000</td>\n",
       "      <td>686.000000</td>\n",
       "      <td>900.000000</td>\n",
       "      <td>958.000000</td>\n",
       "    </tr>\n",
       "    <tr>\n",
       "      <th>mean</th>\n",
       "      <td>4.985000</td>\n",
       "      <td>2.980000</td>\n",
       "      <td>115.272000</td>\n",
       "      <td>1.685131</td>\n",
       "      <td>2.567778</td>\n",
       "      <td>7.003132</td>\n",
       "    </tr>\n",
       "    <tr>\n",
       "      <th>std</th>\n",
       "      <td>1.411654</td>\n",
       "      <td>1.646393</td>\n",
       "      <td>40.426332</td>\n",
       "      <td>0.852637</td>\n",
       "      <td>1.281713</td>\n",
       "      <td>2.933429</td>\n",
       "    </tr>\n",
       "    <tr>\n",
       "      <th>min</th>\n",
       "      <td>3.000000</td>\n",
       "      <td>0.990000</td>\n",
       "      <td>46.000000</td>\n",
       "      <td>1.000000</td>\n",
       "      <td>1.000000</td>\n",
       "      <td>1.000000</td>\n",
       "    </tr>\n",
       "    <tr>\n",
       "      <th>25%</th>\n",
       "      <td>4.000000</td>\n",
       "      <td>0.990000</td>\n",
       "      <td>80.000000</td>\n",
       "      <td>1.000000</td>\n",
       "      <td>2.000000</td>\n",
       "      <td>5.000000</td>\n",
       "    </tr>\n",
       "    <tr>\n",
       "      <th>50%</th>\n",
       "      <td>5.000000</td>\n",
       "      <td>2.990000</td>\n",
       "      <td>114.000000</td>\n",
       "      <td>1.000000</td>\n",
       "      <td>2.000000</td>\n",
       "      <td>7.000000</td>\n",
       "    </tr>\n",
       "    <tr>\n",
       "      <th>75%</th>\n",
       "      <td>6.000000</td>\n",
       "      <td>4.990000</td>\n",
       "      <td>149.250000</td>\n",
       "      <td>2.000000</td>\n",
       "      <td>3.000000</td>\n",
       "      <td>9.000000</td>\n",
       "    </tr>\n",
       "    <tr>\n",
       "      <th>max</th>\n",
       "      <td>7.000000</td>\n",
       "      <td>4.990000</td>\n",
       "      <td>185.000000</td>\n",
       "      <td>5.000000</td>\n",
       "      <td>7.000000</td>\n",
       "      <td>16.000000</td>\n",
       "    </tr>\n",
       "  </tbody>\n",
       "</table>\n",
       "</div>"
      ],
      "text/plain": [
       "       rental_duration  rental_rate       length    rent_may    rent_jun  \\\n",
       "count      1000.000000  1000.000000  1000.000000  686.000000  900.000000   \n",
       "mean          4.985000     2.980000   115.272000    1.685131    2.567778   \n",
       "std           1.411654     1.646393    40.426332    0.852637    1.281713   \n",
       "min           3.000000     0.990000    46.000000    1.000000    1.000000   \n",
       "25%           4.000000     0.990000    80.000000    1.000000    2.000000   \n",
       "50%           5.000000     2.990000   114.000000    1.000000    2.000000   \n",
       "75%           6.000000     4.990000   149.250000    2.000000    3.000000   \n",
       "max           7.000000     4.990000   185.000000    5.000000    7.000000   \n",
       "\n",
       "         rent_jul  \n",
       "count  958.000000  \n",
       "mean     7.003132  \n",
       "std      2.933429  \n",
       "min      1.000000  \n",
       "25%      5.000000  \n",
       "50%      7.000000  \n",
       "75%      9.000000  \n",
       "max     16.000000  "
      ]
     },
     "execution_count": 5,
     "metadata": {},
     "output_type": "execute_result"
    }
   ],
   "source": [
    "data['film_id'] = data['film_id'].astype('object')\n",
    "data.describe()"
   ]
  },
  {
   "cell_type": "code",
   "execution_count": 6,
   "id": "08fd85a1",
   "metadata": {},
   "outputs": [
    {
     "data": {
      "text/html": [
       "<div>\n",
       "<style scoped>\n",
       "    .dataframe tbody tr th:only-of-type {\n",
       "        vertical-align: middle;\n",
       "    }\n",
       "\n",
       "    .dataframe tbody tr th {\n",
       "        vertical-align: top;\n",
       "    }\n",
       "\n",
       "    .dataframe thead th {\n",
       "        text-align: right;\n",
       "    }\n",
       "</style>\n",
       "<table border=\"1\" class=\"dataframe\">\n",
       "  <thead>\n",
       "    <tr style=\"text-align: right;\">\n",
       "      <th></th>\n",
       "      <th>rental_duration</th>\n",
       "      <th>rental_rate</th>\n",
       "      <th>length</th>\n",
       "      <th>rent_may</th>\n",
       "      <th>rent_jun</th>\n",
       "      <th>rent_jul</th>\n",
       "    </tr>\n",
       "  </thead>\n",
       "  <tbody>\n",
       "    <tr>\n",
       "      <th>count</th>\n",
       "      <td>1000.000000</td>\n",
       "      <td>1000.000000</td>\n",
       "      <td>1000.000000</td>\n",
       "      <td>1000.000000</td>\n",
       "      <td>1000.000000</td>\n",
       "      <td>1000.000000</td>\n",
       "    </tr>\n",
       "    <tr>\n",
       "      <th>mean</th>\n",
       "      <td>4.985000</td>\n",
       "      <td>2.980000</td>\n",
       "      <td>115.272000</td>\n",
       "      <td>1.156000</td>\n",
       "      <td>2.311000</td>\n",
       "      <td>6.709000</td>\n",
       "    </tr>\n",
       "    <tr>\n",
       "      <th>std</th>\n",
       "      <td>1.411654</td>\n",
       "      <td>1.646393</td>\n",
       "      <td>40.426332</td>\n",
       "      <td>1.053933</td>\n",
       "      <td>1.439566</td>\n",
       "      <td>3.196645</td>\n",
       "    </tr>\n",
       "    <tr>\n",
       "      <th>min</th>\n",
       "      <td>3.000000</td>\n",
       "      <td>0.990000</td>\n",
       "      <td>46.000000</td>\n",
       "      <td>0.000000</td>\n",
       "      <td>0.000000</td>\n",
       "      <td>0.000000</td>\n",
       "    </tr>\n",
       "    <tr>\n",
       "      <th>25%</th>\n",
       "      <td>4.000000</td>\n",
       "      <td>0.990000</td>\n",
       "      <td>80.000000</td>\n",
       "      <td>0.000000</td>\n",
       "      <td>1.000000</td>\n",
       "      <td>4.000000</td>\n",
       "    </tr>\n",
       "    <tr>\n",
       "      <th>50%</th>\n",
       "      <td>5.000000</td>\n",
       "      <td>2.990000</td>\n",
       "      <td>114.000000</td>\n",
       "      <td>1.000000</td>\n",
       "      <td>2.000000</td>\n",
       "      <td>7.000000</td>\n",
       "    </tr>\n",
       "    <tr>\n",
       "      <th>75%</th>\n",
       "      <td>6.000000</td>\n",
       "      <td>4.990000</td>\n",
       "      <td>149.250000</td>\n",
       "      <td>2.000000</td>\n",
       "      <td>3.000000</td>\n",
       "      <td>9.000000</td>\n",
       "    </tr>\n",
       "    <tr>\n",
       "      <th>max</th>\n",
       "      <td>7.000000</td>\n",
       "      <td>4.990000</td>\n",
       "      <td>185.000000</td>\n",
       "      <td>5.000000</td>\n",
       "      <td>7.000000</td>\n",
       "      <td>16.000000</td>\n",
       "    </tr>\n",
       "  </tbody>\n",
       "</table>\n",
       "</div>"
      ],
      "text/plain": [
       "       rental_duration  rental_rate       length     rent_may     rent_jun  \\\n",
       "count      1000.000000  1000.000000  1000.000000  1000.000000  1000.000000   \n",
       "mean          4.985000     2.980000   115.272000     1.156000     2.311000   \n",
       "std           1.411654     1.646393    40.426332     1.053933     1.439566   \n",
       "min           3.000000     0.990000    46.000000     0.000000     0.000000   \n",
       "25%           4.000000     0.990000    80.000000     0.000000     1.000000   \n",
       "50%           5.000000     2.990000   114.000000     1.000000     2.000000   \n",
       "75%           6.000000     4.990000   149.250000     2.000000     3.000000   \n",
       "max           7.000000     4.990000   185.000000     5.000000     7.000000   \n",
       "\n",
       "          rent_jul  \n",
       "count  1000.000000  \n",
       "mean      6.709000  \n",
       "std       3.196645  \n",
       "min       0.000000  \n",
       "25%       4.000000  \n",
       "50%       7.000000  \n",
       "75%       9.000000  \n",
       "max      16.000000  "
      ]
     },
     "execution_count": 6,
     "metadata": {},
     "output_type": "execute_result"
    }
   ],
   "source": [
    "# lets clear NaNs: NaN = zero rentals\n",
    "\n",
    "data['rent_may'].fillna(0, inplace = True)\n",
    "data['rent_jun'].fillna(0, inplace = True)\n",
    "data['rent_jul'].fillna(0, inplace = True)\n",
    "data.describe()"
   ]
  },
  {
   "cell_type": "code",
   "execution_count": 7,
   "id": "95e82aa1",
   "metadata": {},
   "outputs": [
    {
     "data": {
      "text/html": [
       "<div>\n",
       "<style scoped>\n",
       "    .dataframe tbody tr th:only-of-type {\n",
       "        vertical-align: middle;\n",
       "    }\n",
       "\n",
       "    .dataframe tbody tr th {\n",
       "        vertical-align: top;\n",
       "    }\n",
       "\n",
       "    .dataframe thead th {\n",
       "        text-align: right;\n",
       "    }\n",
       "</style>\n",
       "<table border=\"1\" class=\"dataframe\">\n",
       "  <thead>\n",
       "    <tr style=\"text-align: right;\">\n",
       "      <th></th>\n",
       "      <th>film_id</th>\n",
       "      <th>title</th>\n",
       "      <th>rental_duration</th>\n",
       "      <th>rental_rate</th>\n",
       "      <th>length</th>\n",
       "      <th>rating</th>\n",
       "      <th>rent_may</th>\n",
       "      <th>rent_jun</th>\n",
       "      <th>rent_jul</th>\n",
       "      <th>sf_ds</th>\n",
       "      <th>sf_bs</th>\n",
       "      <th>sf_t</th>\n",
       "      <th>sf_c</th>\n",
       "    </tr>\n",
       "  </thead>\n",
       "  <tbody>\n",
       "    <tr>\n",
       "      <th>0</th>\n",
       "      <td>1</td>\n",
       "      <td>ACADEMY DINOSAUR</td>\n",
       "      <td>6</td>\n",
       "      <td>0.99</td>\n",
       "      <td>86</td>\n",
       "      <td>PG</td>\n",
       "      <td>2.0</td>\n",
       "      <td>3.0</td>\n",
       "      <td>9.0</td>\n",
       "      <td>1</td>\n",
       "      <td>1</td>\n",
       "      <td>0</td>\n",
       "      <td>0</td>\n",
       "    </tr>\n",
       "    <tr>\n",
       "      <th>1</th>\n",
       "      <td>2</td>\n",
       "      <td>ACE GOLDFINGER</td>\n",
       "      <td>3</td>\n",
       "      <td>4.99</td>\n",
       "      <td>48</td>\n",
       "      <td>G</td>\n",
       "      <td>0.0</td>\n",
       "      <td>0.0</td>\n",
       "      <td>2.0</td>\n",
       "      <td>1</td>\n",
       "      <td>0</td>\n",
       "      <td>1</td>\n",
       "      <td>0</td>\n",
       "    </tr>\n",
       "    <tr>\n",
       "      <th>2</th>\n",
       "      <td>3</td>\n",
       "      <td>ADAPTATION HOLES</td>\n",
       "      <td>7</td>\n",
       "      <td>2.99</td>\n",
       "      <td>50</td>\n",
       "      <td>NC-17</td>\n",
       "      <td>1.0</td>\n",
       "      <td>1.0</td>\n",
       "      <td>4.0</td>\n",
       "      <td>1</td>\n",
       "      <td>0</td>\n",
       "      <td>1</td>\n",
       "      <td>0</td>\n",
       "    </tr>\n",
       "    <tr>\n",
       "      <th>3</th>\n",
       "      <td>4</td>\n",
       "      <td>AFFAIR PREJUDICE</td>\n",
       "      <td>5</td>\n",
       "      <td>2.99</td>\n",
       "      <td>117</td>\n",
       "      <td>G</td>\n",
       "      <td>2.0</td>\n",
       "      <td>2.0</td>\n",
       "      <td>12.0</td>\n",
       "      <td>0</td>\n",
       "      <td>1</td>\n",
       "      <td>0</td>\n",
       "      <td>1</td>\n",
       "    </tr>\n",
       "    <tr>\n",
       "      <th>4</th>\n",
       "      <td>5</td>\n",
       "      <td>AFRICAN EGG</td>\n",
       "      <td>6</td>\n",
       "      <td>2.99</td>\n",
       "      <td>130</td>\n",
       "      <td>G</td>\n",
       "      <td>1.0</td>\n",
       "      <td>2.0</td>\n",
       "      <td>5.0</td>\n",
       "      <td>1</td>\n",
       "      <td>0</td>\n",
       "      <td>0</td>\n",
       "      <td>0</td>\n",
       "    </tr>\n",
       "  </tbody>\n",
       "</table>\n",
       "</div>"
      ],
      "text/plain": [
       "  film_id             title  rental_duration  rental_rate  length rating  \\\n",
       "0       1  ACADEMY DINOSAUR                6         0.99      86     PG   \n",
       "1       2    ACE GOLDFINGER                3         4.99      48      G   \n",
       "2       3  ADAPTATION HOLES                7         2.99      50  NC-17   \n",
       "3       4  AFFAIR PREJUDICE                5         2.99     117      G   \n",
       "4       5       AFRICAN EGG                6         2.99     130      G   \n",
       "\n",
       "   rent_may  rent_jun  rent_jul sf_ds sf_bs sf_t sf_c  \n",
       "0       2.0       3.0       9.0     1     1    0    0  \n",
       "1       0.0       0.0       2.0     1     0    1    0  \n",
       "2       1.0       1.0       4.0     1     0    1    0  \n",
       "3       2.0       2.0      12.0     0     1    0    1  \n",
       "4       1.0       2.0       5.0     1     0    0    0  "
      ]
     },
     "execution_count": 7,
     "metadata": {},
     "output_type": "execute_result"
    }
   ],
   "source": [
    "# lets split special_features\n",
    "# data['special_features'].unique()\n",
    "# Deleted Scenes, Behind the Scenes, Trailers, Commentaries\n",
    "\n",
    "def special_separation(x):\n",
    "    y=[0,0,0,0]\n",
    "    z=['Deleted Scenes', 'Behind the Scenes', 'Trailers', 'Commentaries']\n",
    "    for i in y:\n",
    "        for j in range(0,len(z)):\n",
    "            if z[j] in x:\n",
    "                y[j]=1\n",
    "    y = [str(i) for i in y]\n",
    "    y = \",\".join(y)\n",
    "    return y\n",
    "\n",
    "data['special']=data['special_features'].apply(special_separation)\n",
    "data[['sf_ds', 'sf_bs', 'sf_t','sf_c']]=data['special'].str.split(',', expand=True)\n",
    "data = data.drop(['special', 'special_features'], axis=1)\n",
    "data.head()"
   ]
  },
  {
   "cell_type": "code",
   "execution_count": 8,
   "id": "7ae798b6",
   "metadata": {},
   "outputs": [
    {
     "name": "stdout",
     "output_type": "stream",
     "text": [
      "<class 'pandas.core.frame.DataFrame'>\n",
      "Int64Index: 1000 entries, 0 to 999\n",
      "Data columns (total 13 columns):\n",
      " #   Column           Non-Null Count  Dtype  \n",
      "---  ------           --------------  -----  \n",
      " 0   film_id          1000 non-null   object \n",
      " 1   title            1000 non-null   object \n",
      " 2   rental_duration  1000 non-null   int64  \n",
      " 3   rental_rate      1000 non-null   float64\n",
      " 4   length           1000 non-null   int64  \n",
      " 5   rating           1000 non-null   object \n",
      " 6   rent_may         1000 non-null   int64  \n",
      " 7   rent_jun         1000 non-null   int64  \n",
      " 8   rent_jul         1000 non-null   int64  \n",
      " 9   sf_ds            1000 non-null   int64  \n",
      " 10  sf_bs            1000 non-null   int64  \n",
      " 11  sf_t             1000 non-null   int64  \n",
      " 12  sf_c             1000 non-null   int64  \n",
      "dtypes: float64(1), int64(9), object(3)\n",
      "memory usage: 109.4+ KB\n"
     ]
    }
   ],
   "source": [
    "# lets convert everything we can to integer\n",
    "\n",
    "list = ['rent_may', 'rent_jun', 'rent_jul', 'sf_ds', 'sf_bs', 'sf_t', 'sf_c']\n",
    "data[list] = data[list].astype('int64')\n",
    "data.info()"
   ]
  },
  {
   "cell_type": "code",
   "execution_count": 9,
   "id": "60f76293",
   "metadata": {},
   "outputs": [
    {
     "data": {
      "text/html": [
       "<div>\n",
       "<style scoped>\n",
       "    .dataframe tbody tr th:only-of-type {\n",
       "        vertical-align: middle;\n",
       "    }\n",
       "\n",
       "    .dataframe tbody tr th {\n",
       "        vertical-align: top;\n",
       "    }\n",
       "\n",
       "    .dataframe thead th {\n",
       "        text-align: right;\n",
       "    }\n",
       "</style>\n",
       "<table border=\"1\" class=\"dataframe\">\n",
       "  <thead>\n",
       "    <tr style=\"text-align: right;\">\n",
       "      <th></th>\n",
       "      <th>film_id</th>\n",
       "      <th>title</th>\n",
       "      <th>rental_duration</th>\n",
       "      <th>rental_rate</th>\n",
       "      <th>length</th>\n",
       "      <th>rating</th>\n",
       "      <th>rent_may</th>\n",
       "      <th>rent_jun</th>\n",
       "      <th>rent_jul</th>\n",
       "      <th>sf_ds</th>\n",
       "      <th>sf_bs</th>\n",
       "      <th>sf_t</th>\n",
       "      <th>sf_c</th>\n",
       "      <th>growth</th>\n",
       "    </tr>\n",
       "  </thead>\n",
       "  <tbody>\n",
       "    <tr>\n",
       "      <th>0</th>\n",
       "      <td>1</td>\n",
       "      <td>ACADEMY DINOSAUR</td>\n",
       "      <td>6</td>\n",
       "      <td>0.99</td>\n",
       "      <td>86</td>\n",
       "      <td>PG</td>\n",
       "      <td>2</td>\n",
       "      <td>3</td>\n",
       "      <td>9</td>\n",
       "      <td>1</td>\n",
       "      <td>1</td>\n",
       "      <td>0</td>\n",
       "      <td>0</td>\n",
       "      <td>Yes</td>\n",
       "    </tr>\n",
       "    <tr>\n",
       "      <th>1</th>\n",
       "      <td>2</td>\n",
       "      <td>ACE GOLDFINGER</td>\n",
       "      <td>3</td>\n",
       "      <td>4.99</td>\n",
       "      <td>48</td>\n",
       "      <td>G</td>\n",
       "      <td>0</td>\n",
       "      <td>0</td>\n",
       "      <td>2</td>\n",
       "      <td>1</td>\n",
       "      <td>0</td>\n",
       "      <td>1</td>\n",
       "      <td>0</td>\n",
       "      <td>Yes</td>\n",
       "    </tr>\n",
       "    <tr>\n",
       "      <th>2</th>\n",
       "      <td>3</td>\n",
       "      <td>ADAPTATION HOLES</td>\n",
       "      <td>7</td>\n",
       "      <td>2.99</td>\n",
       "      <td>50</td>\n",
       "      <td>NC-17</td>\n",
       "      <td>1</td>\n",
       "      <td>1</td>\n",
       "      <td>4</td>\n",
       "      <td>1</td>\n",
       "      <td>0</td>\n",
       "      <td>1</td>\n",
       "      <td>0</td>\n",
       "      <td>Yes</td>\n",
       "    </tr>\n",
       "    <tr>\n",
       "      <th>3</th>\n",
       "      <td>4</td>\n",
       "      <td>AFFAIR PREJUDICE</td>\n",
       "      <td>5</td>\n",
       "      <td>2.99</td>\n",
       "      <td>117</td>\n",
       "      <td>G</td>\n",
       "      <td>2</td>\n",
       "      <td>2</td>\n",
       "      <td>12</td>\n",
       "      <td>0</td>\n",
       "      <td>1</td>\n",
       "      <td>0</td>\n",
       "      <td>1</td>\n",
       "      <td>Yes</td>\n",
       "    </tr>\n",
       "    <tr>\n",
       "      <th>4</th>\n",
       "      <td>5</td>\n",
       "      <td>AFRICAN EGG</td>\n",
       "      <td>6</td>\n",
       "      <td>2.99</td>\n",
       "      <td>130</td>\n",
       "      <td>G</td>\n",
       "      <td>1</td>\n",
       "      <td>2</td>\n",
       "      <td>5</td>\n",
       "      <td>1</td>\n",
       "      <td>0</td>\n",
       "      <td>0</td>\n",
       "      <td>0</td>\n",
       "      <td>Yes</td>\n",
       "    </tr>\n",
       "  </tbody>\n",
       "</table>\n",
       "</div>"
      ],
      "text/plain": [
       "  film_id             title  rental_duration  rental_rate  length rating  \\\n",
       "0       1  ACADEMY DINOSAUR                6         0.99      86     PG   \n",
       "1       2    ACE GOLDFINGER                3         4.99      48      G   \n",
       "2       3  ADAPTATION HOLES                7         2.99      50  NC-17   \n",
       "3       4  AFFAIR PREJUDICE                5         2.99     117      G   \n",
       "4       5       AFRICAN EGG                6         2.99     130      G   \n",
       "\n",
       "   rent_may  rent_jun  rent_jul  sf_ds  sf_bs  sf_t  sf_c growth  \n",
       "0         2         3         9      1      1     0     0    Yes  \n",
       "1         0         0         2      1      0     1     0    Yes  \n",
       "2         1         1         4      1      0     1     0    Yes  \n",
       "3         2         2        12      0      1     0     1    Yes  \n",
       "4         1         2         5      1      0     0     0    Yes  "
      ]
     },
     "execution_count": 9,
     "metadata": {},
     "output_type": "execute_result"
    }
   ],
   "source": [
    "# now lets do the main column \n",
    "\n",
    "data['growth'] = data['rent_jul']>data['rent_jun']\n",
    "\n",
    "def growth_format(x):\n",
    "    if x == True:\n",
    "        x = 'Yes'\n",
    "    else: x = 'No'\n",
    "    return x\n",
    "\n",
    "data['growth'] = data['growth'].apply(growth_format)\n",
    "\n",
    "data.head()\n",
    "#data['rent_jul']>data['rent_jun']"
   ]
  },
  {
   "cell_type": "code",
   "execution_count": 10,
   "id": "4a371450",
   "metadata": {},
   "outputs": [
    {
     "data": {
      "text/plain": [
       "Yes    952\n",
       "No      48\n",
       "Name: growth, dtype: int64"
      ]
     },
     "execution_count": 10,
     "metadata": {},
     "output_type": "execute_result"
    }
   ],
   "source": [
    "# we have problems as the data is very biased towards growth (95% of observations)\n",
    "\n",
    "data.growth.value_counts()"
   ]
  },
  {
   "cell_type": "markdown",
   "id": "148b88f1",
   "metadata": {},
   "source": [
    "### Regression analysis"
   ]
  },
  {
   "cell_type": "code",
   "execution_count": 11,
   "id": "03a3223f",
   "metadata": {},
   "outputs": [
    {
     "name": "stdout",
     "output_type": "stream",
     "text": [
      "<class 'pandas.core.frame.DataFrame'>\n",
      "Int64Index: 1000 entries, 0 to 999\n",
      "Data columns (total 11 columns):\n",
      " #   Column           Non-Null Count  Dtype  \n",
      "---  ------           --------------  -----  \n",
      " 0   rental_duration  1000 non-null   int64  \n",
      " 1   rental_rate      1000 non-null   float64\n",
      " 2   length           1000 non-null   int64  \n",
      " 3   rating           1000 non-null   object \n",
      " 4   rent_may         1000 non-null   int64  \n",
      " 5   rent_jul         1000 non-null   int64  \n",
      " 6   sf_ds            1000 non-null   int64  \n",
      " 7   sf_bs            1000 non-null   int64  \n",
      " 8   sf_t             1000 non-null   int64  \n",
      " 9   sf_c             1000 non-null   int64  \n",
      " 10  growth           1000 non-null   object \n",
      "dtypes: float64(1), int64(8), object(2)\n",
      "memory usage: 93.8+ KB\n"
     ]
    }
   ],
   "source": [
    "# lets drop the title and film_id (useless), as well as rent_jul (this is a quasi-dependent variable)\n",
    "\n",
    "data_reg=data.drop(['title','film_id','rent_jun'], axis=1)\n",
    "data_reg.info()\n"
   ]
  },
  {
   "cell_type": "code",
   "execution_count": 12,
   "id": "8a863d51",
   "metadata": {},
   "outputs": [
    {
     "data": {
      "image/png": "[encoded data removed]",
      "text/plain": [
       "<Figure size 432x288 with 2 Axes>"
      ]
     },
     "metadata": {
      "needs_background": "light"
     },
     "output_type": "display_data"
    }
   ],
   "source": [
    "# look for corr matrix of numerical part\n",
    "# no multicolinearity can be found\n",
    "\n",
    "correlations_matrix = data_reg.corr().round(1)\n",
    "sns.heatmap(correlations_matrix, annot=True)\n",
    "plt.show()"
   ]
  },
  {
   "cell_type": "code",
   "execution_count": 13,
   "id": "991ce832",
   "metadata": {},
   "outputs": [
    {
     "data": {
      "image/png": "[encoded data removed]",
      "text/plain": [
       "<Figure size 1080x720 with 9 Axes>"
      ]
     },
     "metadata": {
      "needs_background": "light"
     },
     "output_type": "display_data"
    }
   ],
   "source": [
    "fig, axs = plt.subplots(3,3, figsize=(15, 10))\n",
    "\n",
    "axs[0,0].hist(x='rental_duration',data=data, bins=10)\n",
    "axs[0,0].set_xlabel('rental_duration')\n",
    "axs[1,0].hist(x='rental_rate',data=data, bins=10)\n",
    "axs[1,0].set_xlabel('rental_rate')\n",
    "axs[2,0].hist(x='length',data=data, bins=10)\n",
    "axs[2,0].set_xlabel('length')\n",
    "axs[0,1].hist(x='rating',data=data, bins=18)\n",
    "axs[0,1].set_xlabel('rating')\n",
    "axs[1,1].hist(x='rent_may',data=data, bins=15)\n",
    "axs[1,1].set_xlabel('rent_may')\n",
    "axs[2,1].hist(x='rent_jul',data=data, bins=15)\n",
    "axs[2,1].set_xlabel('rent_jul')\n",
    "axs[0,2].hist(x='sf_ds',data=data, bins=2)\n",
    "axs[0,2].set_xlabel('sf_ds')\n",
    "axs[1,2].hist(x='sf_bs',data=data, bins=2)\n",
    "axs[1,2].set_xlabel('sf_bs')\n",
    "axs[2,2].hist(x='sf_t',data=data, bins=2)\n",
    "axs[2,2].set_xlabel('sf_t')\n",
    "\n",
    "plt.show()"
   ]
  },
  {
   "cell_type": "code",
   "execution_count": 14,
   "id": "2ab6927c",
   "metadata": {},
   "outputs": [],
   "source": [
    "# X-y split\n",
    "y = data_reg['growth']\n",
    "X = data_reg.drop(['growth'],axis=1)\n",
    "X_train, X_test, y_train, y_test = train_test_split(X, y, test_size=0.2, random_state=31337)"
   ]
  },
  {
   "cell_type": "code",
   "execution_count": 15,
   "id": "861282ed",
   "metadata": {},
   "outputs": [],
   "source": [
    "X_train_num = X_train.select_dtypes([np.number])\n",
    "\n",
    "from sklearn.preprocessing import MinMaxScaler\n",
    "\n",
    "# Scaling data\n",
    "transformer = MinMaxScaler().fit(X_train_num) \n",
    "X_train_normalized = transformer.transform(X_train_num)\n",
    "X_train_norm = pd.DataFrame(X_train_normalized)"
   ]
  },
  {
   "cell_type": "code",
   "execution_count": 16,
   "id": "cba63de4",
   "metadata": {},
   "outputs": [
    {
     "data": {
      "text/plain": [
       "(800, 9)"
      ]
     },
     "execution_count": 16,
     "metadata": {},
     "output_type": "execute_result"
    }
   ],
   "source": [
    "X_train_norm.columns = X_train_num.columns\n",
    "X_train_norm.shape"
   ]
  },
  {
   "cell_type": "code",
   "execution_count": 17,
   "id": "07989218",
   "metadata": {},
   "outputs": [
    {
     "name": "stderr",
     "output_type": "stream",
     "text": [
      "/var/folders/40/fpzt8rqs1hd_nf7fht4s6n240000gn/T/ipykernel_31849/3242086671.py:1: DeprecationWarning: `np.object` is a deprecated alias for the builtin `object`. To silence this warning, use `object` by itself. Doing this will not modify any behavior and is safe. \n",
      "Deprecated in NumPy 1.20; for more details and guidance: https://numpy.org/devdocs/release/1.20.0-notes.html#deprecations\n",
      "  X_train_categorical = X_train.select_dtypes(include = np.object)\n"
     ]
    },
    {
     "data": {
      "text/plain": [
       "(800, 4)"
      ]
     },
     "execution_count": 17,
     "metadata": {},
     "output_type": "execute_result"
    }
   ],
   "source": [
    "X_train_categorical = X_train.select_dtypes(include = np.object)\n",
    "X_train_cat = pd.get_dummies(X_train_categorical, \n",
    "                             columns=['rating'],\n",
    "                             drop_first=True)\n",
    "X_train_cat.shape\n"
   ]
  },
  {
   "cell_type": "code",
   "execution_count": 18,
   "id": "b757cfd6",
   "metadata": {},
   "outputs": [],
   "source": [
    "#concatenating into one table\n",
    "\n",
    "X_train_transformed = np.concatenate([X_train_norm, X_train_cat], axis=1)\n"
   ]
  },
  {
   "cell_type": "code",
   "execution_count": 19,
   "id": "7822fd95",
   "metadata": {},
   "outputs": [],
   "source": [
    "# running the regression\n",
    "\n",
    "from sklearn.linear_model import LogisticRegression\n",
    "classification = LogisticRegression(random_state=0, solver='lbfgs',\n",
    "                  multi_class='multinomial').fit(X_train_transformed, y_train)"
   ]
  },
  {
   "cell_type": "code",
   "execution_count": 20,
   "id": "a22a4e72",
   "metadata": {},
   "outputs": [
    {
     "name": "stderr",
     "output_type": "stream",
     "text": [
      "/var/folders/40/fpzt8rqs1hd_nf7fht4s6n240000gn/T/ipykernel_31849/507503634.py:8: DeprecationWarning: `np.object` is a deprecated alias for the builtin `object`. To silence this warning, use `object` by itself. Doing this will not modify any behavior and is safe. \n",
      "Deprecated in NumPy 1.20; for more details and guidance: https://numpy.org/devdocs/release/1.20.0-notes.html#deprecations\n",
      "  X_test_categorical = X_test.select_dtypes(include = np.object)\n"
     ]
    },
    {
     "data": {
      "text/html": [
       "<div>\n",
       "<style scoped>\n",
       "    .dataframe tbody tr th:only-of-type {\n",
       "        vertical-align: middle;\n",
       "    }\n",
       "\n",
       "    .dataframe tbody tr th {\n",
       "        vertical-align: top;\n",
       "    }\n",
       "\n",
       "    .dataframe thead th {\n",
       "        text-align: right;\n",
       "    }\n",
       "</style>\n",
       "<table border=\"1\" class=\"dataframe\">\n",
       "  <thead>\n",
       "    <tr style=\"text-align: right;\">\n",
       "      <th></th>\n",
       "      <th>rating_NC-17</th>\n",
       "      <th>rating_PG</th>\n",
       "      <th>rating_PG-13</th>\n",
       "      <th>rating_R</th>\n",
       "    </tr>\n",
       "  </thead>\n",
       "  <tbody>\n",
       "    <tr>\n",
       "      <th>81</th>\n",
       "      <td>0</td>\n",
       "      <td>0</td>\n",
       "      <td>0</td>\n",
       "      <td>0</td>\n",
       "    </tr>\n",
       "    <tr>\n",
       "      <th>353</th>\n",
       "      <td>0</td>\n",
       "      <td>0</td>\n",
       "      <td>0</td>\n",
       "      <td>0</td>\n",
       "    </tr>\n",
       "    <tr>\n",
       "      <th>361</th>\n",
       "      <td>0</td>\n",
       "      <td>0</td>\n",
       "      <td>1</td>\n",
       "      <td>0</td>\n",
       "    </tr>\n",
       "    <tr>\n",
       "      <th>657</th>\n",
       "      <td>0</td>\n",
       "      <td>0</td>\n",
       "      <td>1</td>\n",
       "      <td>0</td>\n",
       "    </tr>\n",
       "    <tr>\n",
       "      <th>944</th>\n",
       "      <td>0</td>\n",
       "      <td>0</td>\n",
       "      <td>0</td>\n",
       "      <td>1</td>\n",
       "    </tr>\n",
       "  </tbody>\n",
       "</table>\n",
       "</div>"
      ],
      "text/plain": [
       "     rating_NC-17  rating_PG  rating_PG-13  rating_R\n",
       "81              0          0             0         0\n",
       "353             0          0             0         0\n",
       "361             0          0             1         0\n",
       "657             0          0             1         0\n",
       "944             0          0             0         1"
      ]
     },
     "execution_count": 20,
     "metadata": {},
     "output_type": "execute_result"
    }
   ],
   "source": [
    "# adjusting test portion\n",
    "\n",
    "X_test_num = X_test.select_dtypes(include = np.number)\n",
    "\n",
    "X_test_normalized = transformer.transform(X_test_num)\n",
    "X_test_norm = pd.DataFrame(X_test_normalized)\n",
    "\n",
    "X_test_categorical = X_test.select_dtypes(include = np.object)\n",
    "X_test_cat = pd.get_dummies(X_test_categorical, \n",
    "                            columns=['rating'],\n",
    "                            drop_first=True)\n",
    "\n",
    "X_test_cat.head()"
   ]
  },
  {
   "cell_type": "code",
   "execution_count": 21,
   "id": "260ebafc",
   "metadata": {},
   "outputs": [],
   "source": [
    "X_test_transformed = np.concatenate([X_test_norm, X_test_cat], axis=1)"
   ]
  },
  {
   "cell_type": "code",
   "execution_count": 22,
   "id": "e8542b78",
   "metadata": {},
   "outputs": [],
   "source": [
    "# lets make predictions\n",
    "predictions_train = classification.predict(X_train_transformed)\n",
    "predictions_test  = classification.predict(X_test_transformed)"
   ]
  },
  {
   "cell_type": "code",
   "execution_count": 29,
   "id": "eb9ee976",
   "metadata": {},
   "outputs": [
    {
     "name": "stdout",
     "output_type": "stream",
     "text": [
      "The confusion matrix on the TRAIN set is: \n"
     ]
    },
    {
     "data": {
      "image/png": "[encoded data removed]",
      "text/plain": [
       "<Figure size 432x288 with 2 Axes>"
      ]
     },
     "metadata": {
      "needs_background": "light"
     },
     "output_type": "display_data"
    }
   ],
   "source": [
    "print(\"The confusion matrix on the TRAIN set is: \")\n",
    "from sklearn.metrics import confusion_matrix\n",
    "cm = confusion_matrix(y_train, predictions_train)\n",
    "\n",
    "disp = ConfusionMatrixDisplay(cm,display_labels=classification.classes_);\n",
    "disp.plot()\n",
    "plt.show()"
   ]
  },
  {
   "cell_type": "code",
   "execution_count": 30,
   "id": "d4c83044",
   "metadata": {},
   "outputs": [
    {
     "name": "stdout",
     "output_type": "stream",
     "text": [
      "The confusion matrix on the TEST set is: \n"
     ]
    },
    {
     "data": {
      "image/png": "[encoded data removed]",
      "text/plain": [
       "<Figure size 432x288 with 2 Axes>"
      ]
     },
     "metadata": {
      "needs_background": "light"
     },
     "output_type": "display_data"
    }
   ],
   "source": [
    "print(\"The confusion matrix on the TEST set is: \")\n",
    "cm_test = confusion_matrix(y_test, predictions_test)\n",
    "cm_test\n",
    "disp = ConfusionMatrixDisplay(cm_test,display_labels=classification.classes_);\n",
    "disp.plot()\n",
    "plt.show()"
   ]
  },
  {
   "cell_type": "code",
   "execution_count": 35,
   "id": "aa48d544",
   "metadata": {},
   "outputs": [
    {
     "name": "stdout",
     "output_type": "stream",
     "text": [
      "              precision    recall  f1-score   support\n",
      "\n",
      "          no       1.00      0.38      0.55        42\n",
      "         yes       0.97      1.00      0.98       758\n",
      "\n",
      "    accuracy                           0.97       800\n",
      "   macro avg       0.98      0.69      0.77       800\n",
      "weighted avg       0.97      0.97      0.96       800\n",
      "\n"
     ]
    }
   ],
   "source": [
    "print(classification_report(y_train, predictions_train,target_names=['no','yes']))"
   ]
  },
  {
   "cell_type": "code",
   "execution_count": 36,
   "id": "af3a6956",
   "metadata": {},
   "outputs": [
    {
     "name": "stdout",
     "output_type": "stream",
     "text": [
      "              precision    recall  f1-score   support\n",
      "\n",
      "          no       1.00      0.67      0.80         6\n",
      "         yes       0.99      1.00      0.99       194\n",
      "\n",
      "    accuracy                           0.99       200\n",
      "   macro avg       0.99      0.83      0.90       200\n",
      "weighted avg       0.99      0.99      0.99       200\n",
      "\n"
     ]
    }
   ],
   "source": [
    "print(classification_report(y_test, predictions_test,target_names=['no','yes']))"
   ]
  },
  {
   "cell_type": "code",
   "execution_count": null,
   "id": "7ea9e798",
   "metadata": {},
   "outputs": [],
   "source": [
    "# the data is biased towards one outcome ('yes' in 95% of observations).\n",
    "# we can see this in confusion matrices ans classification reports.\n",
    "# despite very high accuracy and precission the model is as biased as the data. \n",
    "# interesting that the model for both datasets produced zero false negative resulsts.\n",
    "# recall for 'no' observation is low as the result of the bias towards 'yes' outcome\n",
    "# due to low number of 'no' observations measures of recall and f1-score vary significantly in test and train df.\n",
    "# Kappa tells us that the agreement between the modelled and actual distribution is only moderate."
   ]
  },
  {
   "cell_type": "code",
   "execution_count": 28,
   "id": "c61075b0",
   "metadata": {},
   "outputs": [
    {
     "data": {
      "text/plain": [
       "0.5383522727272727"
      ]
     },
     "execution_count": 28,
     "metadata": {},
     "output_type": "execute_result"
    }
   ],
   "source": [
    "from sklearn.metrics import cohen_kappa_score\n",
    "cohen_kappa_score(y_train, predictions_train)"
   ]
  },
  {
   "cell_type": "code",
   "execution_count": null,
   "id": "c18e81dd",
   "metadata": {},
   "outputs": [],
   "source": []
  },
  {
   "cell_type": "code",
   "execution_count": null,
   "id": "6c3f2bce",
   "metadata": {},
   "outputs": [],
   "source": []
  }
 ],
 "metadata": {
  "kernelspec": {
   "display_name": "Python 3 (ipykernel)",
   "language": "python",
   "name": "python3"
  },
  "language_info": {
   "codemirror_mode": {
    "name": "ipython",
    "version": 3
   },
   "file_extension": ".py",
   "mimetype": "text/x-python",
   "name": "python",
   "nbconvert_exporter": "python",
   "pygments_lexer": "ipython3",
   "version": "3.9.7"
  }
 },
 "nbformat": 4,
 "nbformat_minor": 5
}
